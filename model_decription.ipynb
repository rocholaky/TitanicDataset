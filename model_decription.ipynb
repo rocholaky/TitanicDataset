{
 "cells": [
  {
   "cell_type": "code",
   "execution_count": 1,
   "metadata": {},
   "outputs": [],
   "source": [
    "from TitanicML import cli\n",
    "import pandas as pd\n",
    "import matplotlib.pyplot as plt\n",
    "import numpy as np"
   ]
  },
  {
   "attachments": {},
   "cell_type": "markdown",
   "metadata": {},
   "source": [
    "## CLI usage Example: \n",
    "The provided code has a CLI interface that lets us train models in the Titanic Dataset. The basic usage you can give to the generated code is the training of default models, personalized models or generate a grid search over one model. The idea behind this code is to train 5 possible classification models with the data transformation coming from the EDA. "
   ]
  },
  {
   "attachments": {},
   "cell_type": "markdown",
   "metadata": {},
   "source": [
    "For Example: If we wanted to run a code that trains on the Titanic Dataset with a RandomForest model we just need to use the following command: \n",
    "\n",
    "### train default\n",
    "python run.py --command train\n",
    "\n",
    "### train personalized\n",
    "\n",
    "python run.py --command train_personalized\n",
    "\n",
    "### grid search\n",
    "python run.py --command grid_search\n"
   ]
  },
  {
   "attachments": {},
   "cell_type": "markdown",
   "metadata": {},
   "source": [
    "## This Notebook:\n",
    "For this notebook we will use the cli class we generated, as it is easier to run in a jupyter notebook.  If you want to run this from the cmd you just need to enter the package and run the commands above. \n",
    "\n",
    "## Metrics: \n",
    "The Titanic Dataset is a classification problem were we want to predict the survival of passengers given some basic information.  in this package we will use three metrics we consider important to analyze the model. The three metrics are: \n",
    "1. Accuracy: The amount of correct classifications over all the positively classified records. \n",
    "2. Recall: The amount of correct classifications over all the positively labeled records. \n",
    "3. F1 score: The F1_score is a harmonic mean  between bot Recall and accuracy. "
   ]
  },
  {
   "attachments": {},
   "cell_type": "markdown",
   "metadata": {},
   "source": [
    "## Default RandomForest with Label Encoder: \n",
    "We can define the label encoder for the model being trained, but in the train command we have by default that both Sex and Embarked are categorically encoded. "
   ]
  },
  {
   "cell_type": "code",
   "execution_count": 2,
   "metadata": {},
   "outputs": [
    {
     "name": "stdout",
     "output_type": "stream",
     "text": [
      "Here are the possible models you can choose from: \n",
      "\n",
      "1. SVM:SVM (Support Vector Machine) is a powerful machine learning algorithm used for classification and regression tasks.\n",
      "                 It finds an optimal hyperplane to separate different classes in the data by maximizing the margin between them.\n",
      "                 SVM is effective for handling high-dimensional data and can handle both linear and non-linear relationships through\n",
      "                 kernel functions.\n",
      "\n",
      "\n",
      "2. Random Forest:Random Forest is an ensemble machine learning algorithm that uses multiple decision trees to make predictions.\n",
      "    It combines the predictions of individual trees to produce a final prediction. Random Forest is effective\n",
      "    for both classification and regression tasks. It handles high-dimensional data and can capture complex\n",
      "    relationships between features. It also provides measures of feature importance.\n",
      "\n",
      "3. XGBoost:XGBoost (Extreme Gradient Boosting) is a powerful gradient boosting framework widely used for\n",
      "    classification and regression tasks. It employs a gradient boosting algorithm that iteratively\n",
      "    combines weak learners (decision trees) to form a strong predictive model. XGBoost is known\n",
      "    for its high performance, scalability, and ability to handle complex datasets with large\n",
      "    numbers of features.\n",
      "\n",
      "4. Decision Tree:Decision Tree is a versatile and widely used classification algorithm that builds a tree-like model\n",
      "    of decisions based on features and their thresholds. It splits the data based on the feature that\n",
      "    provides the most information gain or Gini impurity reduction. Decision trees are easy to understand,\n",
      "    interpret, and visualize. They can handle both categorical and numerical features and can capture\n",
      "    non-linear relationships in the data.\n",
      "\n",
      "5. Naive Bayes:Naive Bayes is a probabilistic classification algorithm based on Bayes' theorem with an assumption\n",
      "    of independence between features. It is commonly used for binary classification problems and\n",
      "    works well with categorical or numerical features. Naive Bayes is fast and efficient, making\n",
      "    it suitable for large datasets.\n",
      "\n",
      "You selected the Random Forest model!\n",
      "Results on Test Set:\n",
      "accuracy:0.7891156462585034\n",
      "\n",
      "recall:0.7478991596638656\n",
      "\n",
      "F1Score:0.7416666666666667\n",
      "\n"
     ]
    },
    {
     "data": {
      "text/plain": [
       "<TitanicML.cli.TitanicCli at 0x7f489872f640>"
      ]
     },
     "execution_count": 2,
     "metadata": {},
     "output_type": "execute_result"
    }
   ],
   "source": [
    "cli.TitanicCli(\"train\") # input 2 as value for model selection. "
   ]
  },
  {
   "attachments": {},
   "cell_type": "markdown",
   "metadata": {},
   "source": [
    "In this case, the RandomForest model trained using the CLI package yielded a model with an accuracy of 79%, a recall of 75%, and an F1 score of 0.74. These metrics indicate that the trained model performs reasonably well in predicting the survival outcomes of the tested individuals. Specifically, the model correctly identifies 79% of the survivors, and it detects 74% of the actual survivors. The F1 score of 0.74 reflects a favorable overall performance of the trained model."
   ]
  },
  {
   "attachments": {},
   "cell_type": "markdown",
   "metadata": {},
   "source": [
    "### Training other models: \n",
    "We are going to show that we can train other models with this package and show their performance over the titanic dataset. "
   ]
  },
  {
   "cell_type": "code",
   "execution_count": 3,
   "metadata": {},
   "outputs": [
    {
     "name": "stdout",
     "output_type": "stream",
     "text": [
      "Here are the possible models you can choose from: \n",
      "\n",
      "1. SVM:SVM (Support Vector Machine) is a powerful machine learning algorithm used for classification and regression tasks.\n",
      "                 It finds an optimal hyperplane to separate different classes in the data by maximizing the margin between them.\n",
      "                 SVM is effective for handling high-dimensional data and can handle both linear and non-linear relationships through\n",
      "                 kernel functions.\n",
      "\n",
      "\n",
      "2. Random Forest:Random Forest is an ensemble machine learning algorithm that uses multiple decision trees to make predictions.\n",
      "    It combines the predictions of individual trees to produce a final prediction. Random Forest is effective\n",
      "    for both classification and regression tasks. It handles high-dimensional data and can capture complex\n",
      "    relationships between features. It also provides measures of feature importance.\n",
      "\n",
      "3. XGBoost:XGBoost (Extreme Gradient Boosting) is a powerful gradient boosting framework widely used for\n",
      "    classification and regression tasks. It employs a gradient boosting algorithm that iteratively\n",
      "    combines weak learners (decision trees) to form a strong predictive model. XGBoost is known\n",
      "    for its high performance, scalability, and ability to handle complex datasets with large\n",
      "    numbers of features.\n",
      "\n",
      "4. Decision Tree:Decision Tree is a versatile and widely used classification algorithm that builds a tree-like model\n",
      "    of decisions based on features and their thresholds. It splits the data based on the feature that\n",
      "    provides the most information gain or Gini impurity reduction. Decision trees are easy to understand,\n",
      "    interpret, and visualize. They can handle both categorical and numerical features and can capture\n",
      "    non-linear relationships in the data.\n",
      "\n",
      "5. Naive Bayes:Naive Bayes is a probabilistic classification algorithm based on Bayes' theorem with an assumption\n",
      "    of independence between features. It is commonly used for binary classification problems and\n",
      "    works well with categorical or numerical features. Naive Bayes is fast and efficient, making\n",
      "    it suitable for large datasets.\n",
      "\n",
      "You selected the XGBoost model!\n",
      "Results on Test Set:\n",
      "accuracy:0.7925170068027211\n",
      "\n",
      "recall:0.7478991596638656\n",
      "\n",
      "F1Score:0.7447698744769875\n",
      "\n"
     ]
    },
    {
     "data": {
      "text/plain": [
       "<TitanicML.cli.TitanicCli at 0x7f4836ad6e80>"
      ]
     },
     "execution_count": 3,
     "metadata": {},
     "output_type": "execute_result"
    }
   ],
   "source": [
    "## XGBoost with default parameters: \n",
    "cli.TitanicCli(\"train\") # input 3 as the selected classifier. "
   ]
  },
  {
   "attachments": {},
   "cell_type": "markdown",
   "metadata": {},
   "source": [
    "Here we can also see that the generated model does a fairly simitar job than RandomForest, but in this case the results were worst. "
   ]
  },
  {
   "attachments": {},
   "cell_type": "markdown",
   "metadata": {},
   "source": [
    "### Training Decision Trees: \n",
    "For a last example over default parameter training we will train a Decision Tree. "
   ]
  },
  {
   "cell_type": "code",
   "execution_count": 4,
   "metadata": {},
   "outputs": [
    {
     "name": "stdout",
     "output_type": "stream",
     "text": [
      "Here are the possible models you can choose from: \n",
      "\n",
      "1. SVM:SVM (Support Vector Machine) is a powerful machine learning algorithm used for classification and regression tasks.\n",
      "                 It finds an optimal hyperplane to separate different classes in the data by maximizing the margin between them.\n",
      "                 SVM is effective for handling high-dimensional data and can handle both linear and non-linear relationships through\n",
      "                 kernel functions.\n",
      "\n",
      "\n",
      "2. Random Forest:Random Forest is an ensemble machine learning algorithm that uses multiple decision trees to make predictions.\n",
      "    It combines the predictions of individual trees to produce a final prediction. Random Forest is effective\n",
      "    for both classification and regression tasks. It handles high-dimensional data and can capture complex\n",
      "    relationships between features. It also provides measures of feature importance.\n",
      "\n",
      "3. XGBoost:XGBoost (Extreme Gradient Boosting) is a powerful gradient boosting framework widely used for\n",
      "    classification and regression tasks. It employs a gradient boosting algorithm that iteratively\n",
      "    combines weak learners (decision trees) to form a strong predictive model. XGBoost is known\n",
      "    for its high performance, scalability, and ability to handle complex datasets with large\n",
      "    numbers of features.\n",
      "\n",
      "4. Decision Tree:Decision Tree is a versatile and widely used classification algorithm that builds a tree-like model\n",
      "    of decisions based on features and their thresholds. It splits the data based on the feature that\n",
      "    provides the most information gain or Gini impurity reduction. Decision trees are easy to understand,\n",
      "    interpret, and visualize. They can handle both categorical and numerical features and can capture\n",
      "    non-linear relationships in the data.\n",
      "\n",
      "5. Naive Bayes:Naive Bayes is a probabilistic classification algorithm based on Bayes' theorem with an assumption\n",
      "    of independence between features. It is commonly used for binary classification problems and\n",
      "    works well with categorical or numerical features. Naive Bayes is fast and efficient, making\n",
      "    it suitable for large datasets.\n",
      "\n",
      "You selected the Decision Tree model!\n",
      "Results on Test Set:\n",
      "accuracy:0.7687074829931972\n",
      "\n",
      "recall:0.7058823529411765\n",
      "\n",
      "F1Score:0.7118644067796611\n",
      "\n"
     ]
    },
    {
     "data": {
      "text/plain": [
       "<TitanicML.cli.TitanicCli at 0x7f4836ad60d0>"
      ]
     },
     "execution_count": 4,
     "metadata": {},
     "output_type": "execute_result"
    }
   ],
   "source": [
    "## DecisionTrees with default parameters: \n",
    "cli.TitanicCli(\"train\") # input 4 as the selected classifier. "
   ]
  },
  {
   "attachments": {},
   "cell_type": "markdown",
   "metadata": {},
   "source": [
    "Here we can observe the effectiveness of the trained model, as well as the strong performance of all models trained on the transformed data. This indicates that the features extracted from the dataset offer a valuable representation of the individuals. Thus, we can conclude that the crucial aspect of the classification task lies in the extraction of meaningful information from the data, enabling us to gain insights that were previously inaccessible.\n",
    "\n",
    "In order to select the final model, we notice that XGBoost and RandomForest exhibit remarkably similar results. Therefore, we will proceed with grid searching for both models to determine the optimal configuration."
   ]
  },
  {
   "attachments": {},
   "cell_type": "markdown",
   "metadata": {},
   "source": [
    "# Grid Search: \n",
    "The grid search runs a selected algorithm and performs a grid search in the parameters, for parameters that have options, all options will be tested, meanwhile in parameters with numbers we will select at most 5 grid points. lets see a grid search on XGBoost!"
   ]
  },
  {
   "cell_type": "code",
   "execution_count": 5,
   "metadata": {},
   "outputs": [
    {
     "name": "stdout",
     "output_type": "stream",
     "text": [
      "Here are the possible models you can choose from: \n",
      "\n",
      "1. SVM:SVM (Support Vector Machine) is a powerful machine learning algorithm used for classification and regression tasks.\n",
      "                 It finds an optimal hyperplane to separate different classes in the data by maximizing the margin between them.\n",
      "                 SVM is effective for handling high-dimensional data and can handle both linear and non-linear relationships through\n",
      "                 kernel functions.\n",
      "\n",
      "\n",
      "2. Random Forest:Random Forest is an ensemble machine learning algorithm that uses multiple decision trees to make predictions.\n",
      "    It combines the predictions of individual trees to produce a final prediction. Random Forest is effective\n",
      "    for both classification and regression tasks. It handles high-dimensional data and can capture complex\n",
      "    relationships between features. It also provides measures of feature importance.\n",
      "\n",
      "3. XGBoost:XGBoost (Extreme Gradient Boosting) is a powerful gradient boosting framework widely used for\n",
      "    classification and regression tasks. It employs a gradient boosting algorithm that iteratively\n",
      "    combines weak learners (decision trees) to form a strong predictive model. XGBoost is known\n",
      "    for its high performance, scalability, and ability to handle complex datasets with large\n",
      "    numbers of features.\n",
      "\n",
      "4. Decision Tree:Decision Tree is a versatile and widely used classification algorithm that builds a tree-like model\n",
      "    of decisions based on features and their thresholds. It splits the data based on the feature that\n",
      "    provides the most information gain or Gini impurity reduction. Decision trees are easy to understand,\n",
      "    interpret, and visualize. They can handle both categorical and numerical features and can capture\n",
      "    non-linear relationships in the data.\n",
      "\n",
      "5. Naive Bayes:Naive Bayes is a probabilistic classification algorithm based on Bayes' theorem with an assumption\n",
      "    of independence between features. It is commonly used for binary classification problems and\n",
      "    works well with categorical or numerical features. Naive Bayes is fast and efficient, making\n",
      "    it suitable for large datasets.\n",
      "\n",
      "You selected the Random Forest model!\n",
      "Results on Test Set:\n",
      "best parameters: {'criterion': 'entropy', 'max_depth': 4, 'min_samples_leaf': 1, 'min_samples_split': 2, 'n_estimators': 100}\n",
      "accuracy:0.8333333333333334\n",
      "\n",
      "recall:0.7058823529411765\n",
      "\n",
      "F1Score:0.7741935483870968\n",
      "\n"
     ]
    },
    {
     "data": {
      "text/plain": [
       "<TitanicML.cli.TitanicCli at 0x7f48369bce20>"
      ]
     },
     "execution_count": 5,
     "metadata": {},
     "output_type": "execute_result"
    }
   ],
   "source": [
    "XGB_grid = cli.TitanicCli(\"grid_search\") # press 3"
   ]
  },
  {
   "attachments": {},
   "cell_type": "markdown",
   "metadata": {},
   "source": [
    "In this case, we observe that the model achieved improved accuracy compared to the previous version. However, this improvement came at the cost of a lower recall metric, which had initially been around 75%. This indicates that the updated model started classifying more data as \"survived,\" resulting in a decrease in the percentage of actual survivors correctly identified out of all survivors.\n",
    "\n",
    "Nevertheless, the utilization of grid search led to an overall improvement in the F1 score. This indicates a better trade-off between accuracy and recall. As the data is balanced. "
   ]
  },
  {
   "attachments": {},
   "cell_type": "markdown",
   "metadata": {},
   "source": [
    "## Personalized models: \n",
    "In the personalized model action you can generate the model you want, the package will start asking for each hyperparameter that you can tune in the selected model. In this case you can also decide the type of encoding you want in the data, if you want one-hot-encoding or label encoding. Lets personalize the RandomForest algorithm selected before. "
   ]
  },
  {
   "cell_type": "code",
   "execution_count": 9,
   "metadata": {},
   "outputs": [
    {
     "name": "stdout",
     "output_type": "stream",
     "text": [
      "Here are the possible models you can choose from: \n",
      "\n",
      "1. SVM:SVM (Support Vector Machine) is a powerful machine learning algorithm used for classification and regression tasks.\n",
      "                 It finds an optimal hyperplane to separate different classes in the data by maximizing the margin between them.\n",
      "                 SVM is effective for handling high-dimensional data and can handle both linear and non-linear relationships through\n",
      "                 kernel functions.\n",
      "\n",
      "\n",
      "2. Random Forest:Random Forest is an ensemble machine learning algorithm that uses multiple decision trees to make predictions.\n",
      "    It combines the predictions of individual trees to produce a final prediction. Random Forest is effective\n",
      "    for both classification and regression tasks. It handles high-dimensional data and can capture complex\n",
      "    relationships between features. It also provides measures of feature importance.\n",
      "\n",
      "3. XGBoost:XGBoost (Extreme Gradient Boosting) is a powerful gradient boosting framework widely used for\n",
      "    classification and regression tasks. It employs a gradient boosting algorithm that iteratively\n",
      "    combines weak learners (decision trees) to form a strong predictive model. XGBoost is known\n",
      "    for its high performance, scalability, and ability to handle complex datasets with large\n",
      "    numbers of features.\n",
      "\n",
      "4. Decision Tree:Decision Tree is a versatile and widely used classification algorithm that builds a tree-like model\n",
      "    of decisions based on features and their thresholds. It splits the data based on the feature that\n",
      "    provides the most information gain or Gini impurity reduction. Decision trees are easy to understand,\n",
      "    interpret, and visualize. They can handle both categorical and numerical features and can capture\n",
      "    non-linear relationships in the data.\n",
      "\n",
      "5. Naive Bayes:Naive Bayes is a probabilistic classification algorithm based on Bayes' theorem with an assumption\n",
      "    of independence between features. It is commonly used for binary classification problems and\n",
      "    works well with categorical or numerical features. Naive Bayes is fast and efficient, making\n",
      "    it suitable for large datasets.\n",
      "\n",
      "You selected the XGBoost model!\n",
      "Results on Test Set:\n",
      "best parameters: {'colsample_bytree': 1, 'learning_rate': 0.1, 'max_depth': 3, 'n_estimators': 100, 'reg_alpha': 0, 'reg_lambda': 0.0, 'subsample': 1}\n",
      "accuracy:0.826530612244898\n",
      "\n",
      "recall:0.7142857142857143\n",
      "\n",
      "F1Score:0.7692307692307692\n",
      "\n"
     ]
    }
   ],
   "source": [
    "## XGBoost with default parameters: \n",
    "cl_obj = cli.TitanicCli(\"grid_search\")"
   ]
  },
  {
   "attachments": {},
   "cell_type": "markdown",
   "metadata": {},
   "source": [
    "For the previous case we gave the following parameters: \n",
    "n_estimators= 100\n",
    "max_depth = 3\n",
    "min_sample_split=3\n",
    "min_sample_leaf=2\n",
    "\n",
    "Regarding the feature encoding we did a OneHotEncoding for Embarked and Label encoding for Sex. \n",
    "\n",
    "This shows that the generated package lets us train models by default, personalized and grid searching through the space of parameters, all with just one prompt line and some questions to define better the model.  "
   ]
  },
  {
   "attachments": {},
   "cell_type": "markdown",
   "metadata": {},
   "source": [
    "## Most Important Feature: \n",
    "In order to define the most important features, in the case of tree-like methods we can get it directly from the trained model, so lets get the classifier \n"
   ]
  },
  {
   "cell_type": "code",
   "execution_count": 12,
   "metadata": {},
   "outputs": [],
   "source": [
    "classifier = XGB_grid.model[-1].best_estimator_\n",
    "importance = classifier.feature_importances_"
   ]
  },
  {
   "cell_type": "code",
   "execution_count": 16,
   "metadata": {},
   "outputs": [
    {
     "data": {
      "image/png": "[encoded data removed]",
      "text/plain": [
       "<Figure size 640x480 with 1 Axes>"
      ]
     },
     "metadata": {},
     "output_type": "display_data"
    }
   ],
   "source": [
    "forest_importances = pd.Series(importance,  index=cl_obj.model.features_names)\n",
    "forest_importances = forest_importances.sort_values(ascending=False)\n",
    "fig, ax = plt.subplots()\n",
    "forest_importances.plot.bar(ax=ax)\n",
    "ax.set_title(\"Feature importances of the XGBoost Algorithm\")\n",
    "ax.set_ylabel(\"feature Importance\")\n",
    "fig.tight_layout()"
   ]
  },
  {
   "attachments": {},
   "cell_type": "markdown",
   "metadata": {},
   "source": [
    "In the previous plot we observe that the most influential features for the model are Sex, Pclass, and whether the person is an adult. Considering the historical context of the Titanic, where \"Women and Children\" had priority during the evacuation, it is logical that the Sex column plays a crucial role, especially in conjunction with the isAdult feature. Furthermore, the passenger's class of travel (Pclass) emerges as an important factor influencing the model's decision. These findings align with the known historical facts surrounding the Titanic disaster.\n",
    "\n",
    "Additionally, we note that the feature isAlone does not significantly contribute to determining a person's survival. This could be attributed to the model's ability to infer this information from other features such as family size or sibling and spauses (sibSp) and number of parents/children aboard (Parch). Thus, the model can make accurate predictions without explicitly relying on the isAlone feature."
   ]
  },
  {
   "attachments": {},
   "cell_type": "markdown",
   "metadata": {},
   "source": [
    "# Model to Production"
   ]
  },
  {
   "attachments": {},
   "cell_type": "markdown",
   "metadata": {},
   "source": [
    "If we wanted to move this ML model to production, there are several important steps to consider. Let me outline the approach I would take:\n",
    "\n",
    "1. Containerization: First, I would containerize the package using Docker. By creating a Docker image, we can ensure that the model runs consistently across different environments. This approach makes it easier to deploy the model on any computer without worrying about compatibility issues.\n",
    "\n",
    "2. REST/API or Data Pipeline: Next, we need to provide an interface for users to interact with the model. One option is to develop a REST API using frameworks like Flask or FastAPI. This API would allow users to send data for prediction and receive the results. Alternatively, we could set up a data pipeline using tools like Apache Airflow to automate the data ingestion, preprocessing, and feeding into the model.\n",
    "\n",
    "3. Container Orchestration: To ensure scalability and high availability, we can use container orchestration platforms like Kubernetes. Kubernetes allows us to manage and scale our containers efficiently, handle load balancing, and provide fault tolerance. This ensures that our ML model can handle increased traffic and is always available for predictions.\n",
    "\n",
    "4. Function as a Service (FaaS) Platforms: In some cases, where the ML model is the main component and there is no need for infrastructure management, utilizing Function as a Service (FaaS) platforms can be a good choice. Platforms like AWS Lambda provide a serverless environment to deploy our ML model as a function. This simplifies deployment and eliminates the need to manage the underlying infrastructure. This is the approach I would recommend and if we took it then we would not need step 3. As it would be provided by the cloud platform.  \n",
    "\n",
    "5. Logging, Monitoring, and CI/CD: It's important to implement logging and monitoring practices to track the performance and behavior of our ML model in production. This helps us detect any issues and  gather insights for improvement. Setting up CI/CD pipelines using tools like Jenkins or GitLab CI allows us to automate testing, build, and deployment processes, ensuring that updates can be delivered quickly and reliably.\n",
    "\n",
    "6. Versioning and Maintenance: Regular maintenance is necessary to ensure the ML model remains up to date. This includes evaluating its performance, monitoring for data drift, and retraining the model with new data if needed. Implementing version control enables us to track changes, compare different versions, and roll back if necessary. In this particular case as the Titanic Dataset will never change this step may be skipped (ONLY IF THE DATA NEVER CHANGES, for example only queries) in any other case this step is crucial!"
   ]
  },
  {
   "attachments": {},
   "cell_type": "markdown",
   "metadata": {},
   "source": [
    "## Testing: \n",
    "In this section we will test the code and provide the coverage: "
   ]
  },
  {
   "attachments": {},
   "cell_type": "markdown",
   "metadata": {},
   "source": [
    "# Test CLI and models:     \n",
    "lets test the cli.py script and model.py script: "
   ]
  },
  {
   "cell_type": "code",
   "execution_count": 23,
   "metadata": {},
   "outputs": [
    {
     "name": "stdout",
     "output_type": "stream",
     "text": [
      "/bin/bash: /root/miniconda3/envs/dataScience/lib/libtinfo.so.6: no version information available (required by /bin/bash)\n",
      "Here are the possible models you can choose from: \n",
      "\n",
      "1. SVM:SVM (Support Vector Machine) is a powerful machine learning algorithm used for classification and regression tasks.\n",
      "                 It finds an optimal hyperplane to separate different classes in the data by maximizing the margin between them.\n",
      "                 SVM is effective for handling high-dimensional data and can handle both linear and non-linear relationships through\n",
      "                 kernel functions.\n",
      "\n",
      "\n",
      "2. Random Forest:Random Forest is an ensemble machine learning algorithm that uses multiple decision trees to make predictions.\n",
      "    It combines the predictions of individual trees to produce a final prediction. Random Forest is effective\n",
      "    for both classification and regression tasks. It handles high-dimensional data and can capture complex\n",
      "    relationships between features. It also provides measures of feature importance.\n",
      "\n",
      "3. XGBoost:XGBoost (Extreme Gradient Boosting) is a powerful gradient boosting framework widely used for\n",
      "    classification and regression tasks. It employs a gradient boosting algorithm that iteratively\n",
      "    combines weak learners (decision trees) to form a strong predictive model. XGBoost is known\n",
      "    for its high performance, scalability, and ability to handle complex datasets with large\n",
      "    numbers of features.\n",
      "\n",
      "4. Decision Tree:Decision Tree is a versatile and widely used classification algorithm that builds a tree-like model\n",
      "    of decisions based on features and their thresholds. It splits the data based on the feature that\n",
      "    provides the most information gain or Gini impurity reduction. Decision trees are easy to understand,\n",
      "    interpret, and visualize. They can handle both categorical and numerical features and can capture\n",
      "    non-linear relationships in the data.\n",
      "\n",
      "5. Naive Bayes:Naive Bayes is a probabilistic classification algorithm based on Bayes' theorem with an assumption\n",
      "    of independence between features. It is commonly used for binary classification problems and\n",
      "    works well with categorical or numerical features. Naive Bayes is fast and efficient, making\n",
      "    it suitable for large datasets.\n",
      "\n",
      "You selected the SVM model!\n",
      "Results on Test Set:\n",
      "accuracy:0.6632653061224489\n",
      "\n",
      "recall:0.2605042016806723\n",
      "\n",
      "F1Score:0.3850931677018634\n",
      "\n",
      ".Here are the possible models you can choose from: \n",
      "\n",
      "1. SVM:SVM (Support Vector Machine) is a powerful machine learning algorithm used for classification and regression tasks.\n",
      "                 It finds an optimal hyperplane to separate different classes in the data by maximizing the margin between them.\n",
      "                 SVM is effective for handling high-dimensional data and can handle both linear and non-linear relationships through\n",
      "                 kernel functions.\n",
      "\n",
      "\n",
      "2. Random Forest:Random Forest is an ensemble machine learning algorithm that uses multiple decision trees to make predictions.\n",
      "    It combines the predictions of individual trees to produce a final prediction. Random Forest is effective\n",
      "    for both classification and regression tasks. It handles high-dimensional data and can capture complex\n",
      "    relationships between features. It also provides measures of feature importance.\n",
      "\n",
      "3. XGBoost:XGBoost (Extreme Gradient Boosting) is a powerful gradient boosting framework widely used for\n",
      "    classification and regression tasks. It employs a gradient boosting algorithm that iteratively\n",
      "    combines weak learners (decision trees) to form a strong predictive model. XGBoost is known\n",
      "    for its high performance, scalability, and ability to handle complex datasets with large\n",
      "    numbers of features.\n",
      "\n",
      "4. Decision Tree:Decision Tree is a versatile and widely used classification algorithm that builds a tree-like model\n",
      "    of decisions based on features and their thresholds. It splits the data based on the feature that\n",
      "    provides the most information gain or Gini impurity reduction. Decision trees are easy to understand,\n",
      "    interpret, and visualize. They can handle both categorical and numerical features and can capture\n",
      "    non-linear relationships in the data.\n",
      "\n",
      "5. Naive Bayes:Naive Bayes is a probabilistic classification algorithm based on Bayes' theorem with an assumption\n",
      "    of independence between features. It is commonly used for binary classification problems and\n",
      "    works well with categorical or numerical features. Naive Bayes is fast and efficient, making\n",
      "    it suitable for large datasets.\n",
      "\n",
      "You selected the SVM model!\n",
      "Please Select the following parameter: C\n",
      "\n",
      "Please Select the following parameter: kernel\n",
      "\n",
      "Please Select the following parameter: degree\n",
      "\n",
      "Training Results:\n",
      "accuracy:0.6054421768707483\n",
      "\n",
      "recall:0.06722689075630252\n",
      "\n",
      "F1Score:0.1212121212121212\n",
      "\n",
      ".Here are the possible models you can choose from: \n",
      "\n",
      "1. SVM:SVM (Support Vector Machine) is a powerful machine learning algorithm used for classification and regression tasks.\n",
      "                 It finds an optimal hyperplane to separate different classes in the data by maximizing the margin between them.\n",
      "                 SVM is effective for handling high-dimensional data and can handle both linear and non-linear relationships through\n",
      "                 kernel functions.\n",
      "\n",
      "\n",
      "2. Random Forest:Random Forest is an ensemble machine learning algorithm that uses multiple decision trees to make predictions.\n",
      "    It combines the predictions of individual trees to produce a final prediction. Random Forest is effective\n",
      "    for both classification and regression tasks. It handles high-dimensional data and can capture complex\n",
      "    relationships between features. It also provides measures of feature importance.\n",
      "\n",
      "3. XGBoost:XGBoost (Extreme Gradient Boosting) is a powerful gradient boosting framework widely used for\n",
      "    classification and regression tasks. It employs a gradient boosting algorithm that iteratively\n",
      "    combines weak learners (decision trees) to form a strong predictive model. XGBoost is known\n",
      "    for its high performance, scalability, and ability to handle complex datasets with large\n",
      "    numbers of features.\n",
      "\n",
      "4. Decision Tree:Decision Tree is a versatile and widely used classification algorithm that builds a tree-like model\n",
      "    of decisions based on features and their thresholds. It splits the data based on the feature that\n",
      "    provides the most information gain or Gini impurity reduction. Decision trees are easy to understand,\n",
      "    interpret, and visualize. They can handle both categorical and numerical features and can capture\n",
      "    non-linear relationships in the data.\n",
      "\n",
      "5. Naive Bayes:Naive Bayes is a probabilistic classification algorithm based on Bayes' theorem with an assumption\n",
      "    of independence between features. It is commonly used for binary classification problems and\n",
      "    works well with categorical or numerical features. Naive Bayes is fast and efficient, making\n",
      "    it suitable for large datasets.\n",
      "\n",
      "You selected the SVM model!\n",
      "Please Select the following parameter: C\n",
      "\n",
      "Please Select the following parameter: kernel\n",
      "\n",
      "Please Select the following parameter: degree\n",
      "\n",
      "Training Results:\n",
      "accuracy:0.6666666666666666\n",
      "\n",
      "recall:0.25210084033613445\n",
      "\n",
      "F1Score:0.379746835443038\n",
      "\n",
      ".Here are the possible models you can choose from: \n",
      "\n",
      "1. SVM:SVM (Support Vector Machine) is a powerful machine learning algorithm used for classification and regression tasks.\n",
      "                 It finds an optimal hyperplane to separate different classes in the data by maximizing the margin between them.\n",
      "                 SVM is effective for handling high-dimensional data and can handle both linear and non-linear relationships through\n",
      "                 kernel functions.\n",
      "\n",
      "\n",
      "2. Random Forest:Random Forest is an ensemble machine learning algorithm that uses multiple decision trees to make predictions.\n",
      "    It combines the predictions of individual trees to produce a final prediction. Random Forest is effective\n",
      "    for both classification and regression tasks. It handles high-dimensional data and can capture complex\n",
      "    relationships between features. It also provides measures of feature importance.\n",
      "\n",
      "3. XGBoost:XGBoost (Extreme Gradient Boosting) is a powerful gradient boosting framework widely used for\n",
      "    classification and regression tasks. It employs a gradient boosting algorithm that iteratively\n",
      "    combines weak learners (decision trees) to form a strong predictive model. XGBoost is known\n",
      "    for its high performance, scalability, and ability to handle complex datasets with large\n",
      "    numbers of features.\n",
      "\n",
      "4. Decision Tree:Decision Tree is a versatile and widely used classification algorithm that builds a tree-like model\n",
      "    of decisions based on features and their thresholds. It splits the data based on the feature that\n",
      "    provides the most information gain or Gini impurity reduction. Decision trees are easy to understand,\n",
      "    interpret, and visualize. They can handle both categorical and numerical features and can capture\n",
      "    non-linear relationships in the data.\n",
      "\n",
      "5. Naive Bayes:Naive Bayes is a probabilistic classification algorithm based on Bayes' theorem with an assumption\n",
      "    of independence between features. It is commonly used for binary classification problems and\n",
      "    works well with categorical or numerical features. Naive Bayes is fast and efficient, making\n",
      "    it suitable for large datasets.\n",
      "\n",
      "You selected the Random Forest model!\n",
      "Results on Test Set:\n",
      "best parameters: {'criterion': 'entropy', 'max_depth': 4, 'min_samples_leaf': 1, 'min_samples_split': 2, 'n_estimators': 100}\n",
      "accuracy:0.8333333333333334\n",
      "\n",
      "recall:0.7058823529411765\n",
      "\n",
      "F1Score:0.7741935483870968\n",
      "\n",
      "..Here are the possible models you can choose from: \n",
      "\n",
      "1. SVM:SVM (Support Vector Machine) is a powerful machine learning algorithm used for classification and regression tasks.\n",
      "                 It finds an optimal hyperplane to separate different classes in the data by maximizing the margin between them.\n",
      "                 SVM is effective for handling high-dimensional data and can handle both linear and non-linear relationships through\n",
      "                 kernel functions.\n",
      "\n",
      "\n",
      "2. Random Forest:Random Forest is an ensemble machine learning algorithm that uses multiple decision trees to make predictions.\n",
      "    It combines the predictions of individual trees to produce a final prediction. Random Forest is effective\n",
      "    for both classification and regression tasks. It handles high-dimensional data and can capture complex\n",
      "    relationships between features. It also provides measures of feature importance.\n",
      "\n",
      "3. XGBoost:XGBoost (Extreme Gradient Boosting) is a powerful gradient boosting framework widely used for\n",
      "    classification and regression tasks. It employs a gradient boosting algorithm that iteratively\n",
      "    combines weak learners (decision trees) to form a strong predictive model. XGBoost is known\n",
      "    for its high performance, scalability, and ability to handle complex datasets with large\n",
      "    numbers of features.\n",
      "\n",
      "4. Decision Tree:Decision Tree is a versatile and widely used classification algorithm that builds a tree-like model\n",
      "    of decisions based on features and their thresholds. It splits the data based on the feature that\n",
      "    provides the most information gain or Gini impurity reduction. Decision trees are easy to understand,\n",
      "    interpret, and visualize. They can handle both categorical and numerical features and can capture\n",
      "    non-linear relationships in the data.\n",
      "\n",
      "5. Naive Bayes:Naive Bayes is a probabilistic classification algorithm based on Bayes' theorem with an assumption\n",
      "    of independence between features. It is commonly used for binary classification problems and\n",
      "    works well with categorical or numerical features. Naive Bayes is fast and efficient, making\n",
      "    it suitable for large datasets.\n",
      "\n",
      "You selected the Random Forest model!\n",
      ".Here are the possible models you can choose from: \n",
      "\n",
      "1. SVM:SVM (Support Vector Machine) is a powerful machine learning algorithm used for classification and regression tasks.\n",
      "                 It finds an optimal hyperplane to separate different classes in the data by maximizing the margin between them.\n",
      "                 SVM is effective for handling high-dimensional data and can handle both linear and non-linear relationships through\n",
      "                 kernel functions.\n",
      "\n",
      "\n",
      "2. Random Forest:Random Forest is an ensemble machine learning algorithm that uses multiple decision trees to make predictions.\n",
      "    It combines the predictions of individual trees to produce a final prediction. Random Forest is effective\n",
      "    for both classification and regression tasks. It handles high-dimensional data and can capture complex\n",
      "    relationships between features. It also provides measures of feature importance.\n",
      "\n",
      "3. XGBoost:XGBoost (Extreme Gradient Boosting) is a powerful gradient boosting framework widely used for\n",
      "    classification and regression tasks. It employs a gradient boosting algorithm that iteratively\n",
      "    combines weak learners (decision trees) to form a strong predictive model. XGBoost is known\n",
      "    for its high performance, scalability, and ability to handle complex datasets with large\n",
      "    numbers of features.\n",
      "\n",
      "4. Decision Tree:Decision Tree is a versatile and widely used classification algorithm that builds a tree-like model\n",
      "    of decisions based on features and their thresholds. It splits the data based on the feature that\n",
      "    provides the most information gain or Gini impurity reduction. Decision trees are easy to understand,\n",
      "    interpret, and visualize. They can handle both categorical and numerical features and can capture\n",
      "    non-linear relationships in the data.\n",
      "\n",
      "5. Naive Bayes:Naive Bayes is a probabilistic classification algorithm based on Bayes' theorem with an assumption\n",
      "    of independence between features. It is commonly used for binary classification problems and\n",
      "    works well with categorical or numerical features. Naive Bayes is fast and efficient, making\n",
      "    it suitable for large datasets.\n",
      "\n",
      "You selected the SVM model!\n",
      "............\n",
      "----------------------------------------------------------------------\n",
      "Ran 18 tests in 142.204s\n",
      "\n",
      "OK\n"
     ]
    }
   ],
   "source": [
    "!coverage run --source=TitanicML --omit='*/tests/*' -m unittest discover"
   ]
  },
  {
   "attachments": {},
   "cell_type": "markdown",
   "metadata": {},
   "source": [
    "Now we will show the coverage of the generated code: "
   ]
  },
  {
   "cell_type": "code",
   "execution_count": 24,
   "metadata": {},
   "outputs": [
    {
     "name": "stdout",
     "output_type": "stream",
     "text": [
      "/bin/bash: /root/miniconda3/envs/dataScience/lib/libtinfo.so.6: no version information available (required by /bin/bash)\n",
      "Name                               Stmts   Miss  Cover\n",
      "------------------------------------------------------\n",
      "TitanicML/__init__.py                  0      0   100%\n",
      "TitanicML/cli.py                     100      2    98%\n",
      "TitanicML/encoders.py                 31      0   100%\n",
      "TitanicML/missingDataHandlers.py      22      5    77%\n",
      "TitanicML/model.py                   193      3    98%\n",
      "TitanicML/transformer.py              54      0   100%\n",
      "------------------------------------------------------\n",
      "TOTAL                                400     10    98%\n"
     ]
    }
   ],
   "source": [
    "!coverage report"
   ]
  },
  {
   "attachments": {},
   "cell_type": "markdown",
   "metadata": {},
   "source": [
    "Here we can observe that the code has achieved a test coverage of 98%, indicating that the vast majority of the codebase has been thoroughly tested. The missing rows in the missingDataHandlers section do not have a significant impact on the functionality of the package. Additionally, it is worth noting that all tests have passed successfully, providing further confidence in the reliability and accuracy of the implemented code."
   ]
  },
  {
   "attachments": {},
   "cell_type": "markdown",
   "metadata": {},
   "source": []
  }
 ],
 "metadata": {
  "kernelspec": {
   "display_name": "dataScience",
   "language": "python",
   "name": "python3"
  },
  "language_info": {
   "codemirror_mode": {
    "name": "ipython",
    "version": 3
   },
   "file_extension": ".py",
   "mimetype": "text/x-python",
   "name": "python",
   "nbconvert_exporter": "python",
   "pygments_lexer": "ipython3",
   "version": "3.8.16"
  },
  "orig_nbformat": 4
 },
 "nbformat": 4,
 "nbformat_minor": 2
}
